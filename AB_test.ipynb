{
 "cells": [
  {
   "cell_type": "markdown",
   "metadata": {},
   "source": [
    "# Установка библиотеки retentioneering\n",
    "Если вы работаете через google colab, то установку Retentioneering нужно будет выполнять каждый раз при запуске ноутбука. \n",
    "Если локально - то только 1 раз.\n",
    "\n",
    "Чтобы установить библиотеку:\n",
    "- Раскомментируйте строчку в следующей ячейке и выполните её \n",
    "- После того как она выполнится - перезагрузите ядро. \n",
    "- Для этого в google colab нужно нажать: Runtime -- Restart runtime (Среда выполнения - Перезапустить среду выполнения)\n",
    "- В Jupyter Notebook нужно нажать: Kernel -- Restart (Ядро -- Перезапуск)\n",
    "\n",
    "После перезапуска ядра (среды) можно продолжить работу с ноутбуком, начиная с ячейки с импортами"
   ]
  },
  {
   "cell_type": "code",
   "execution_count": 1,
   "metadata": {},
   "outputs": [],
   "source": [
    "#!pip3 install retentioneering"
   ]
  },
  {
   "cell_type": "code",
   "execution_count": 1,
   "metadata": {},
   "outputs": [],
   "source": [
    "import pandas as pd\n",
    "import retentioneering\n",
    "import numpy as np\n",
    "import datetime as dt\n",
    "from copy import deepcopy\n",
    "\n",
    "from matplotlib import pyplot as plt\n",
    "import seaborn as sns\n",
    "import plotly.express as px\n",
    "import plotly.graph_objects as go\n",
    "from tqdm import tqdm\n",
    "import io\n",
    "%matplotlib inline"
   ]
  },
  {
   "cell_type": "markdown",
   "metadata": {},
   "source": [
    "# Подготовка данных"
   ]
  },
  {
   "cell_type": "code",
   "execution_count": 2,
   "metadata": {},
   "outputs": [],
   "source": [
    "grA = pd.read_csv('A_group.csv')\n",
    "grB = pd.read_csv('B_group.csv')\n",
    "\n"
   ]
  },
  {
   "cell_type": "code",
   "execution_count": 3,
   "metadata": {},
   "outputs": [
    {
     "data": {
      "text/plain": [
       "array([14957., 13918., 17212., ..., 13298., 14569., 12713.])"
      ]
     },
     "execution_count": 3,
     "metadata": {},
     "output_type": "execute_result"
    }
   ],
   "source": [
    "a_list = grA['CustomerID'].unique()\n",
    "a_list"
   ]
  },
  {
   "cell_type": "code",
   "execution_count": 4,
   "metadata": {},
   "outputs": [],
   "source": [
    "data = grA.merge(grB, how = 'outer', on='CustomerID')\n",
    "data.to_csv('mergedA1B1.csv', index=False)"
   ]
  },
  {
   "cell_type": "code",
   "execution_count": 5,
   "metadata": {},
   "outputs": [],
   "source": [
    "data.loc[data.CustomerID.isin(a_list), 'group'] = 'A'\n",
    "data.loc[~data.CustomerID.isin(a_list), 'group'] = 'B'"
   ]
  },
  {
   "cell_type": "code",
   "execution_count": 6,
   "metadata": {},
   "outputs": [
    {
     "data": {
      "text/html": [
       "<div>\n",
       "<style scoped>\n",
       "    .dataframe tbody tr th:only-of-type {\n",
       "        vertical-align: middle;\n",
       "    }\n",
       "\n",
       "    .dataframe tbody tr th {\n",
       "        vertical-align: top;\n",
       "    }\n",
       "\n",
       "    .dataframe thead th {\n",
       "        text-align: right;\n",
       "    }\n",
       "</style>\n",
       "<table border=\"1\" class=\"dataframe\">\n",
       "  <thead>\n",
       "    <tr style=\"text-align: right;\">\n",
       "      <th></th>\n",
       "      <th>Unnamed: 0_x</th>\n",
       "      <th>InvoiceNo_x</th>\n",
       "      <th>StockCode_x</th>\n",
       "      <th>Quantity_x</th>\n",
       "      <th>InvoiceDate_x</th>\n",
       "      <th>UnitPrice_x</th>\n",
       "      <th>CustomerID</th>\n",
       "      <th>Unnamed: 0_y</th>\n",
       "      <th>InvoiceNo_y</th>\n",
       "      <th>StockCode_y</th>\n",
       "      <th>Quantity_y</th>\n",
       "      <th>InvoiceDate_y</th>\n",
       "      <th>UnitPrice_y</th>\n",
       "      <th>group</th>\n",
       "    </tr>\n",
       "  </thead>\n",
       "  <tbody>\n",
       "    <tr>\n",
       "      <th>0</th>\n",
       "      <td>142009.0</td>\n",
       "      <td>548541</td>\n",
       "      <td>21231</td>\n",
       "      <td>4.0</td>\n",
       "      <td>2011-03-31 17:59:00</td>\n",
       "      <td>1.25</td>\n",
       "      <td>14957.0</td>\n",
       "      <td>NaN</td>\n",
       "      <td>NaN</td>\n",
       "      <td>NaN</td>\n",
       "      <td>NaN</td>\n",
       "      <td>NaN</td>\n",
       "      <td>NaN</td>\n",
       "      <td>A</td>\n",
       "    </tr>\n",
       "    <tr>\n",
       "      <th>1</th>\n",
       "      <td>142010.0</td>\n",
       "      <td>548541</td>\n",
       "      <td>22970</td>\n",
       "      <td>6.0</td>\n",
       "      <td>2011-03-31 17:59:00</td>\n",
       "      <td>2.55</td>\n",
       "      <td>14957.0</td>\n",
       "      <td>NaN</td>\n",
       "      <td>NaN</td>\n",
       "      <td>NaN</td>\n",
       "      <td>NaN</td>\n",
       "      <td>NaN</td>\n",
       "      <td>NaN</td>\n",
       "      <td>A</td>\n",
       "    </tr>\n",
       "    <tr>\n",
       "      <th>2</th>\n",
       "      <td>142011.0</td>\n",
       "      <td>548541</td>\n",
       "      <td>21164</td>\n",
       "      <td>1.0</td>\n",
       "      <td>2011-03-31 17:59:00</td>\n",
       "      <td>2.95</td>\n",
       "      <td>14957.0</td>\n",
       "      <td>NaN</td>\n",
       "      <td>NaN</td>\n",
       "      <td>NaN</td>\n",
       "      <td>NaN</td>\n",
       "      <td>NaN</td>\n",
       "      <td>NaN</td>\n",
       "      <td>A</td>\n",
       "    </tr>\n",
       "    <tr>\n",
       "      <th>3</th>\n",
       "      <td>142012.0</td>\n",
       "      <td>548541</td>\n",
       "      <td>82578</td>\n",
       "      <td>1.0</td>\n",
       "      <td>2011-03-31 17:59:00</td>\n",
       "      <td>0.55</td>\n",
       "      <td>14957.0</td>\n",
       "      <td>NaN</td>\n",
       "      <td>NaN</td>\n",
       "      <td>NaN</td>\n",
       "      <td>NaN</td>\n",
       "      <td>NaN</td>\n",
       "      <td>NaN</td>\n",
       "      <td>A</td>\n",
       "    </tr>\n",
       "    <tr>\n",
       "      <th>4</th>\n",
       "      <td>142013.0</td>\n",
       "      <td>548541</td>\n",
       "      <td>82580</td>\n",
       "      <td>1.0</td>\n",
       "      <td>2011-03-31 17:59:00</td>\n",
       "      <td>0.55</td>\n",
       "      <td>14957.0</td>\n",
       "      <td>NaN</td>\n",
       "      <td>NaN</td>\n",
       "      <td>NaN</td>\n",
       "      <td>NaN</td>\n",
       "      <td>NaN</td>\n",
       "      <td>NaN</td>\n",
       "      <td>A</td>\n",
       "    </tr>\n",
       "  </tbody>\n",
       "</table>\n",
       "</div>"
      ],
      "text/plain": [
       "   Unnamed: 0_x InvoiceNo_x StockCode_x  Quantity_x        InvoiceDate_x  \\\n",
       "0      142009.0      548541       21231         4.0  2011-03-31 17:59:00   \n",
       "1      142010.0      548541       22970         6.0  2011-03-31 17:59:00   \n",
       "2      142011.0      548541       21164         1.0  2011-03-31 17:59:00   \n",
       "3      142012.0      548541       82578         1.0  2011-03-31 17:59:00   \n",
       "4      142013.0      548541       82580         1.0  2011-03-31 17:59:00   \n",
       "\n",
       "   UnitPrice_x  CustomerID  Unnamed: 0_y InvoiceNo_y StockCode_y  Quantity_y  \\\n",
       "0         1.25     14957.0           NaN         NaN         NaN         NaN   \n",
       "1         2.55     14957.0           NaN         NaN         NaN         NaN   \n",
       "2         2.95     14957.0           NaN         NaN         NaN         NaN   \n",
       "3         0.55     14957.0           NaN         NaN         NaN         NaN   \n",
       "4         0.55     14957.0           NaN         NaN         NaN         NaN   \n",
       "\n",
       "  InvoiceDate_y  UnitPrice_y group  \n",
       "0           NaN          NaN     A  \n",
       "1           NaN          NaN     A  \n",
       "2           NaN          NaN     A  \n",
       "3           NaN          NaN     A  \n",
       "4           NaN          NaN     A  "
      ]
     },
     "execution_count": 6,
     "metadata": {},
     "output_type": "execute_result"
    }
   ],
   "source": [
    "data.head()"
   ]
  },
  {
   "cell_type": "code",
   "execution_count": 7,
   "metadata": {},
   "outputs": [
    {
     "name": "stdout",
     "output_type": "stream",
     "text": [
      "<class 'pandas.core.frame.DataFrame'>\n",
      "Int64Index: 541909 entries, 0 to 541908\n",
      "Data columns (total 14 columns):\n",
      " #   Column         Non-Null Count   Dtype  \n",
      "---  ------         --------------   -----  \n",
      " 0   Unnamed: 0_x   116786 non-null  float64\n",
      " 1   InvoiceNo_x    116786 non-null  object \n",
      " 2   StockCode_x    116786 non-null  object \n",
      " 3   Quantity_x     116786 non-null  float64\n",
      " 4   InvoiceDate_x  116786 non-null  object \n",
      " 5   UnitPrice_x    116786 non-null  float64\n",
      " 6   CustomerID     406829 non-null  float64\n",
      " 7   Unnamed: 0_y   425123 non-null  float64\n",
      " 8   InvoiceNo_y    425123 non-null  object \n",
      " 9   StockCode_y    425123 non-null  object \n",
      " 10  Quantity_y     425123 non-null  float64\n",
      " 11  InvoiceDate_y  425123 non-null  object \n",
      " 12  UnitPrice_y    425123 non-null  float64\n",
      " 13  group          541909 non-null  object \n",
      "dtypes: float64(7), object(7)\n",
      "memory usage: 62.0+ MB\n"
     ]
    }
   ],
   "source": [
    "data.info()"
   ]
  },
  {
   "cell_type": "code",
   "execution_count": 8,
   "metadata": {},
   "outputs": [],
   "source": [
    "data['Unnamed: 0_x'] = data['Unnamed: 0_x'].combine_first(data['Unnamed: 0_y'])\n",
    "data['InvoiceNo_x'] = data['InvoiceNo_x'].combine_first(data['InvoiceNo_y'])\n",
    "data['StockCode_x'] = data['StockCode_x'].combine_first(data['StockCode_y'])\n",
    "data['Quantity_x'] = data['Quantity_x'].combine_first(data['Quantity_y'])\n",
    "data['InvoiceDate_x'] = data['InvoiceDate_x'].combine_first(data['InvoiceDate_y'])\n",
    "data['UnitPrice_x'] = data['UnitPrice_x'].combine_first(data['UnitPrice_y'])\n",
    "\n",
    "\n",
    "\n",
    "data.rename(columns={'Unnamed: 0_x': 'Unnamed: 0', 'InvoiceNo_x': 'InvoiceNo', 'StockCode_x': 'StockCode', 'Quantity_x':'Quantity', 'InvoiceDate_x': 'InvoiceDate', 'UnitPrice_x':'UnitPrice'}, inplace=True)\n",
    "\n"
   ]
  },
  {
   "cell_type": "code",
   "execution_count": 9,
   "metadata": {},
   "outputs": [],
   "source": [
    "data.drop(columns={'Unnamed: 0_y', 'InvoiceNo_y', 'StockCode_y', 'Quantity_y', 'InvoiceDate_y', 'UnitPrice_y'}, inplace=True)"
   ]
  },
  {
   "cell_type": "code",
   "execution_count": 10,
   "metadata": {},
   "outputs": [
    {
     "data": {
      "text/html": [
       "<div>\n",
       "<style scoped>\n",
       "    .dataframe tbody tr th:only-of-type {\n",
       "        vertical-align: middle;\n",
       "    }\n",
       "\n",
       "    .dataframe tbody tr th {\n",
       "        vertical-align: top;\n",
       "    }\n",
       "\n",
       "    .dataframe thead th {\n",
       "        text-align: right;\n",
       "    }\n",
       "</style>\n",
       "<table border=\"1\" class=\"dataframe\">\n",
       "  <thead>\n",
       "    <tr style=\"text-align: right;\">\n",
       "      <th></th>\n",
       "      <th>Unnamed: 0</th>\n",
       "      <th>InvoiceNo</th>\n",
       "      <th>StockCode</th>\n",
       "      <th>Quantity</th>\n",
       "      <th>InvoiceDate</th>\n",
       "      <th>UnitPrice</th>\n",
       "      <th>CustomerID</th>\n",
       "      <th>group</th>\n",
       "    </tr>\n",
       "  </thead>\n",
       "  <tbody>\n",
       "    <tr>\n",
       "      <th>0</th>\n",
       "      <td>142009.0</td>\n",
       "      <td>548541</td>\n",
       "      <td>21231</td>\n",
       "      <td>4.0</td>\n",
       "      <td>2011-03-31 17:59:00</td>\n",
       "      <td>1.25</td>\n",
       "      <td>14957.0</td>\n",
       "      <td>A</td>\n",
       "    </tr>\n",
       "    <tr>\n",
       "      <th>1</th>\n",
       "      <td>142010.0</td>\n",
       "      <td>548541</td>\n",
       "      <td>22970</td>\n",
       "      <td>6.0</td>\n",
       "      <td>2011-03-31 17:59:00</td>\n",
       "      <td>2.55</td>\n",
       "      <td>14957.0</td>\n",
       "      <td>A</td>\n",
       "    </tr>\n",
       "    <tr>\n",
       "      <th>2</th>\n",
       "      <td>142011.0</td>\n",
       "      <td>548541</td>\n",
       "      <td>21164</td>\n",
       "      <td>1.0</td>\n",
       "      <td>2011-03-31 17:59:00</td>\n",
       "      <td>2.95</td>\n",
       "      <td>14957.0</td>\n",
       "      <td>A</td>\n",
       "    </tr>\n",
       "    <tr>\n",
       "      <th>3</th>\n",
       "      <td>142012.0</td>\n",
       "      <td>548541</td>\n",
       "      <td>82578</td>\n",
       "      <td>1.0</td>\n",
       "      <td>2011-03-31 17:59:00</td>\n",
       "      <td>0.55</td>\n",
       "      <td>14957.0</td>\n",
       "      <td>A</td>\n",
       "    </tr>\n",
       "    <tr>\n",
       "      <th>4</th>\n",
       "      <td>142013.0</td>\n",
       "      <td>548541</td>\n",
       "      <td>82580</td>\n",
       "      <td>1.0</td>\n",
       "      <td>2011-03-31 17:59:00</td>\n",
       "      <td>0.55</td>\n",
       "      <td>14957.0</td>\n",
       "      <td>A</td>\n",
       "    </tr>\n",
       "  </tbody>\n",
       "</table>\n",
       "</div>"
      ],
      "text/plain": [
       "   Unnamed: 0 InvoiceNo StockCode  Quantity          InvoiceDate  UnitPrice  \\\n",
       "0    142009.0    548541     21231       4.0  2011-03-31 17:59:00       1.25   \n",
       "1    142010.0    548541     22970       6.0  2011-03-31 17:59:00       2.55   \n",
       "2    142011.0    548541     21164       1.0  2011-03-31 17:59:00       2.95   \n",
       "3    142012.0    548541     82578       1.0  2011-03-31 17:59:00       0.55   \n",
       "4    142013.0    548541     82580       1.0  2011-03-31 17:59:00       0.55   \n",
       "\n",
       "   CustomerID group  \n",
       "0     14957.0     A  \n",
       "1     14957.0     A  \n",
       "2     14957.0     A  \n",
       "3     14957.0     A  \n",
       "4     14957.0     A  "
      ]
     },
     "execution_count": 10,
     "metadata": {},
     "output_type": "execute_result"
    }
   ],
   "source": [
    "data.head()"
   ]
  },
  {
   "cell_type": "code",
   "execution_count": 11,
   "metadata": {},
   "outputs": [
    {
     "name": "stdout",
     "output_type": "stream",
     "text": [
      "<class 'pandas.core.frame.DataFrame'>\n",
      "Int64Index: 541909 entries, 0 to 541908\n",
      "Data columns (total 8 columns):\n",
      " #   Column       Non-Null Count   Dtype  \n",
      "---  ------       --------------   -----  \n",
      " 0   Unnamed: 0   541909 non-null  float64\n",
      " 1   InvoiceNo    541909 non-null  object \n",
      " 2   StockCode    541909 non-null  object \n",
      " 3   Quantity     541909 non-null  float64\n",
      " 4   InvoiceDate  541909 non-null  object \n",
      " 5   UnitPrice    541909 non-null  float64\n",
      " 6   CustomerID   406829 non-null  float64\n",
      " 7   group        541909 non-null  object \n",
      "dtypes: float64(4), object(4)\n",
      "memory usage: 37.2+ MB\n"
     ]
    }
   ],
   "source": [
    "data.info()"
   ]
  },
  {
   "cell_type": "code",
   "execution_count": 12,
   "metadata": {},
   "outputs": [],
   "source": [
    "data['date'] = pd.to_datetime(data['InvoiceDate'])"
   ]
  },
  {
   "cell_type": "code",
   "execution_count": 13,
   "metadata": {},
   "outputs": [
    {
     "data": {
      "text/plain": [
       "(Timestamp('2010-12-01 08:26:00'), Timestamp('2011-12-09 12:50:00'))"
      ]
     },
     "execution_count": 13,
     "metadata": {},
     "output_type": "execute_result"
    }
   ],
   "source": [
    "data['date'].min(), data['date'].max()"
   ]
  },
  {
   "cell_type": "markdown",
   "metadata": {},
   "source": [
    "# Изучение данных"
   ]
  },
  {
   "cell_type": "code",
   "execution_count": 14,
   "metadata": {},
   "outputs": [
    {
     "data": {
      "text/plain": [
       "A    2187\n",
       "B    2185\n",
       "Name: group, dtype: int64"
      ]
     },
     "execution_count": 14,
     "metadata": {},
     "output_type": "execute_result"
    }
   ],
   "source": [
    "data.groupby(['CustomerID', 'group']).nunique().reset_index()['group'].value_counts()"
   ]
  },
  {
   "cell_type": "markdown",
   "metadata": {},
   "source": [
    "Количество пользователей в обеих группах практически одинаковое. Теперь проверим не перетекают ли пользователи между группами."
   ]
  },
  {
   "cell_type": "code",
   "execution_count": 15,
   "metadata": {},
   "outputs": [
    {
     "data": {
      "text/plain": [
       "CustomerID\n",
       "12346.0    1\n",
       "16272.0    1\n",
       "16274.0    1\n",
       "16275.0    1\n",
       "16276.0    1\n",
       "          ..\n",
       "14307.0    1\n",
       "14306.0    1\n",
       "14305.0    1\n",
       "14314.0    1\n",
       "18287.0    1\n",
       "Name: group, Length: 4372, dtype: int64"
      ]
     },
     "execution_count": 15,
     "metadata": {},
     "output_type": "execute_result"
    }
   ],
   "source": [
    "data.groupby(['CustomerID'])['group'].nunique().sort_values()"
   ]
  },
  {
   "cell_type": "markdown",
   "metadata": {},
   "source": [
    "Пользователи не пересекаются между группами. Теперь посмотрим диапазоны дат для каждой из групп."
   ]
  },
  {
   "cell_type": "code",
   "execution_count": 16,
   "metadata": {},
   "outputs": [
    {
     "name": "stdout",
     "output_type": "stream",
     "text": [
      "A\n",
      "2011-03-31 17:59:00 2011-12-09 12:50:00\n",
      "B\n",
      "2010-12-01 08:26:00 2011-12-09 12:49:00\n"
     ]
    }
   ],
   "source": [
    "gr=['A', 'B']\n",
    "for i in gr:\n",
    "    print(i)\n",
    "    print(data[data['group']==i]['date'].min(), data[data['group']==i]['date'].max())"
   ]
  },
  {
   "cell_type": "markdown",
   "metadata": {},
   "source": [
    "Наблюдение за группой B начинается с 1 декабря, тогда как за группой А на четыре месяца позже, с 31 марта 2011.\n",
    "\n",
    "Можем сравнить поведение групп между собой.\n",
    "\n",
    "Например, можем построить, как изменялась доля активных пользователей в каждой из групп интервал к интервалу с момента начала наблюдения за обеими группами:\n",
    "\n"
   ]
  },
  {
   "cell_type": "code",
   "execution_count": 17,
   "metadata": {},
   "outputs": [],
   "source": [
    "cohort_size =  7\n",
    "\n",
    "data_grA = data[data['CustomerID'].isin(a_list)].copy()\n",
    "data_grB = data[~data['CustomerID'].isin(a_list)].copy()"
   ]
  },
  {
   "cell_type": "code",
   "execution_count": 18,
   "metadata": {},
   "outputs": [],
   "source": [
    "data_grA['delta'] = (data_grA['date'] - data_grA['date'].min())\\\n",
    "                    .apply(lambda x: np.floor(x.days / cohort_size))\n",
    "\n",
    "\n",
    "data_grB['delta'] = (data_grB['date'] - data_grA['date'].min())\\\n",
    "                    .apply(lambda x: np.floor(x.days / cohort_size))"
   ]
  },
  {
   "cell_type": "code",
   "execution_count": 19,
   "metadata": {},
   "outputs": [
    {
     "data": {
      "image/png": "[encoded data removed]",
      "text/plain": [
       "<Figure size 432x288 with 1 Axes>"
      ]
     },
     "metadata": {
      "needs_background": "light"
     },
     "output_type": "display_data"
    }
   ],
   "source": [
    "retention_grA =  data_grA.groupby('delta')['CustomerID'].apply(lambda x: len(set(x)))\n",
    "retention_grB =  data_grB.groupby('delta')['CustomerID'].apply(lambda x: len(set(x)))\n",
    "\n",
    "\n",
    "sns.lineplot(x = retention_grA.index, y = retention_grA.values/max(retention_grA.values),\n",
    "             lw = 2, marker=\"o\", markersize = 8)\n",
    "\n",
    "sns.lineplot(x = retention_grB.index, y = retention_grB.values/max(retention_grB.values),\n",
    "             lw = 2, marker=\"o\", markersize = 8)\n",
    "\n",
    "plt.xlabel('периоды с начала наблюдения за группой')\n",
    "plt.ylabel('доля активных пользователей')\n",
    "\n",
    "plt.legend(labels=[\"группа А\",\"группа B\"])\n",
    "plt.show()"
   ]
  },
  {
   "cell_type": "markdown",
   "metadata": {},
   "source": [
    "Мы видим, что группа А и B обладают примерно таким же retention, c небольшим повышением в группе A на промежутке между 20 и 30 неделями наблюдения."
   ]
  },
  {
   "cell_type": "code",
   "execution_count": 20,
   "metadata": {},
   "outputs": [],
   "source": [
    "purch_grA =  data_grA.groupby('delta').apply(lambda x: len(x['InvoiceNo'])/x['CustomerID'].nunique())\n",
    "purch_grB =  data_grB.groupby('delta').apply(lambda x: len(x['InvoiceNo'])/x['CustomerID'].nunique())"
   ]
  },
  {
   "cell_type": "code",
   "execution_count": 21,
   "metadata": {},
   "outputs": [
    {
     "data": {
      "image/png": "[encoded data removed]",
      "text/plain": [
       "<Figure size 432x288 with 1 Axes>"
      ]
     },
     "metadata": {
      "needs_background": "light"
     },
     "output_type": "display_data"
    }
   ],
   "source": [
    "sns.lineplot(x = purch_grA.index, y = purch_grA.values,\n",
    "             lw = 2, marker=\"o\", markersize = 8)\n",
    "\n",
    "sns.lineplot(x = purch_grB.index, y = purch_grB.values,\n",
    "             lw = 2, marker=\"o\", markersize = 8)\n",
    "\n",
    "plt.xlabel('периоды с начала наблюдения за группой')\n",
    "plt.ylabel('количество заказов')\n",
    "\n",
    "plt.legend(labels=[\"группа A\",\"группа B\"])\n",
    "plt.show()"
   ]
  },
  {
   "cell_type": "markdown",
   "metadata": {},
   "source": [
    "Видно, что в группе B создавалось большее количество заказов на одного пользователя, чем в группе А."
   ]
  },
  {
   "cell_type": "code",
   "execution_count": 22,
   "metadata": {},
   "outputs": [
    {
     "data": {
      "text/plain": [
       "1.25      50496\n",
       "1.65      38181\n",
       "0.85      28497\n",
       "2.95      27768\n",
       "0.42      24533\n",
       "          ...  \n",
       "4.48          1\n",
       "87.40         1\n",
       "545.25        1\n",
       "0.48          1\n",
       "221.16        1\n",
       "Name: UnitPrice, Length: 1630, dtype: int64"
      ]
     },
     "execution_count": 22,
     "metadata": {},
     "output_type": "execute_result"
    }
   ],
   "source": [
    "data['UnitPrice'].value_counts()"
   ]
  },
  {
   "cell_type": "code",
   "execution_count": 23,
   "metadata": {},
   "outputs": [],
   "source": [
    "def visualize_purchases(df):\n",
    "    data = df.copy()\n",
    "    min_date = data['date'].min()\n",
    "    max_date = data['date'].max()\n",
    "\n",
    "    data['delta'] = (data['date'] - min_date).apply(lambda x: np.floor(x.days/7))\n",
    "\n",
    "\n",
    "    sns.set(style='white', context='notebook', rc={'figure.figsize':(8,5)})\n",
    "    bin_num=int(np.floor((max_date-min_date).days/7))\n",
    "    \n",
    "    sns.distplot(data['delta'], kde=False,bins=bin_num, norm_hist=False, label='')\n",
    "    plt.xlabel('Недели с начала наблюдения за группой')\n",
    "\n",
    "    plt.legend(labels=[\"Все заказы в эту неделю\"])\n",
    "    plt.xlim([0,53])\n",
    "    plt.show()\n",
    "    print('начало наблюдения за группой: '+ str(min_date))"
   ]
  },
  {
   "cell_type": "code",
   "execution_count": 24,
   "metadata": {},
   "outputs": [
    {
     "name": "stderr",
     "output_type": "stream",
     "text": [
      "C:\\anaconda3\\lib\\site-packages\\seaborn\\distributions.py:2557: FutureWarning: `distplot` is a deprecated function and will be removed in a future version. Please adapt your code to use either `displot` (a figure-level function with similar flexibility) or `histplot` (an axes-level function for histograms).\n",
      "  warnings.warn(msg, FutureWarning)\n"
     ]
    },
    {
     "data": {
      "image/png": "[encoded data removed]",
      "text/plain": [
       "<Figure size 576x360 with 1 Axes>"
      ]
     },
     "metadata": {},
     "output_type": "display_data"
    },
    {
     "name": "stdout",
     "output_type": "stream",
     "text": [
      "начало наблюдения за группой: 2011-03-31 17:59:00\n"
     ]
    }
   ],
   "source": [
    "visualize_purchases(data_grA)"
   ]
  },
  {
   "cell_type": "code",
   "execution_count": 25,
   "metadata": {},
   "outputs": [
    {
     "data": {
      "image/png": "[encoded data removed]",
      "text/plain": [
       "<Figure size 576x360 with 1 Axes>"
      ]
     },
     "metadata": {},
     "output_type": "display_data"
    },
    {
     "name": "stdout",
     "output_type": "stream",
     "text": [
      "начало наблюдения за группой: 2010-12-01 08:26:00\n"
     ]
    }
   ],
   "source": [
    "visualize_purchases(data_grB)"
   ]
  },
  {
   "cell_type": "markdown",
   "metadata": {},
   "source": [
    "На графиках сверху также видно, что количество заказов существенно выше в группе B."
   ]
  },
  {
   "cell_type": "markdown",
   "metadata": {},
   "source": [
    "Вероятно, имеет смысл повторить тест, так как наблюдение за группой B начинается с 1 декабря, тогда как за группой А на четыре месяца позже, с 31 марта 2011."
   ]
  }
 ],
 "metadata": {
  "kernelspec": {
   "display_name": "Python 3",
   "language": "python",
   "name": "python3"
  },
  "language_info": {
   "codemirror_mode": {
    "name": "ipython",
    "version": 3
   },
   "file_extension": ".py",
   "mimetype": "text/x-python",
   "name": "python",
   "nbconvert_exporter": "python",
   "pygments_lexer": "ipython3",
   "version": "3.8.8"
  },
  "toc": {
   "base_numbering": 1,
   "nav_menu": {},
   "number_sections": true,
   "sideBar": true,
   "skip_h1_title": false,
   "title_cell": "Table of Contents",
   "title_sidebar": "Contents",
   "toc_cell": true,
   "toc_position": {},
   "toc_section_display": true,
   "toc_window_display": true
  },
  "varInspector": {
   "cols": {
    "lenName": 16,
    "lenType": 16,
    "lenVar": 40
   },
   "kernels_config": {
    "python": {
     "delete_cmd_postfix": "",
     "delete_cmd_prefix": "del ",
     "library": "var_list.py",
     "varRefreshCmd": "print(var_dic_list())"
    },
    "r": {
     "delete_cmd_postfix": ") ",
     "delete_cmd_prefix": "rm(",
     "library": "var_list.r",
     "varRefreshCmd": "cat(var_dic_list()) "
    }
   },
   "types_to_exclude": [
    "module",
    "function",
    "builtin_function_or_method",
    "instance",
    "_Feature"
   ],
   "window_display": false
  }
 },
 "nbformat": 4,
 "nbformat_minor": 2
}
